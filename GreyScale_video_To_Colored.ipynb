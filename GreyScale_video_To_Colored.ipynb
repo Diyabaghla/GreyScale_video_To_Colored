{
  "nbformat": 4,
  "nbformat_minor": 0,
  "metadata": {
    "colab": {
      "provenance": [],
      "authorship_tag": "ABX9TyP+j9pVGEoY0HIqvXz6is+a",
      "include_colab_link": true
    },
    "kernelspec": {
      "name": "python3",
      "display_name": "Python 3"
    },
    "language_info": {
      "name": "python"
    }
  },
  "cells": [
    {
      "cell_type": "markdown",
      "metadata": {
        "id": "view-in-github",
        "colab_type": "text"
      },
      "source": [
        "<a href=\"https://colab.research.google.com/github/Diyabaghla/GreyScale_video_To_Colored/blob/main/GreyScale_video_To_Colored.ipynb\" target=\"_parent\"><img src=\"https://colab.research.google.com/assets/colab-badge.svg\" alt=\"Open In Colab\"/></a>"
      ]
    },
    {
      "cell_type": "code",
      "execution_count": 24,
      "metadata": {
        "colab": {
          "base_uri": "https://localhost:8080/"
        },
        "id": "xpDsOdH3uGeD",
        "outputId": "7506d27d-28d6-4bc4-8894-bb525da4c3d7"
      },
      "outputs": [
        {
          "output_type": "stream",
          "name": "stdout",
          "text": [
            "converetd and saved successfully\n"
          ]
        }
      ],
      "source": [
        "import cv2\n",
        "#read the video\n",
        "grey_video=cv2.VideoCapture(\"video.mp4\")\n",
        "#get the video properties\n",
        "width=int(grey_video.get(cv2.CAP_PROP_FRAME_WIDTH))\n",
        "height=int(grey_video.get(cv2.CAP_PROP_FRAME_HEIGHT))\n",
        "fps=grey_video.get(cv2.CAP_PROP_FPS)\n",
        "\n",
        "#create videowriter object to save the coloredscale video\n",
        "fourcc=cv2.VideoWriter_fourcc(*'mp4v')\n",
        "colored_video=cv2.VideoWriter(\"/content/coloured_video.avi\",fourcc,fps,(width,height))\n",
        "\n",
        "#extract frames from the video\n",
        "while True:\n",
        "  ret,frame=grey_video.read()\n",
        "\n",
        "  if not ret:\n",
        "    break\n",
        "  #convert the frame to colouredscale\n",
        "  #colored_frame=cv2.ApplyColorMap(frame,COLORMAP_JET)\n",
        "  #colored_frame=cv2.cvtColor(frame,cv2.COLOR_RGB2lab)\n",
        "  colored=cv2.cvtColor(frame,cv2.COLOR_BGR2RGB)\n",
        "  colored_frame=cv2.cvtColor(colored,cv2.COLOR_RGB2HLS_FULL)\n",
        "\n",
        "  colored_video.write(colored_frame)\n",
        "\n",
        "grey_video.release()\n",
        "colored_video.release()\n",
        "\n",
        "print(\"converetd and saved successfully\")\n",
        "\n"
      ]
    },
    {
      "cell_type": "code",
      "source": [
        "from google.colab import files\n",
        "\n",
        "files.download(\"/content/coloured_video.avi\")"
      ],
      "metadata": {
        "colab": {
          "base_uri": "https://localhost:8080/",
          "height": 17
        },
        "id": "RniWmsMt8E29",
        "outputId": "ff83c4c9-c851-4680-9414-42ca1745b9b0"
      },
      "execution_count": 25,
      "outputs": [
        {
          "output_type": "display_data",
          "data": {
            "text/plain": [
              "<IPython.core.display.Javascript object>"
            ],
            "application/javascript": [
              "\n",
              "    async function download(id, filename, size) {\n",
              "      if (!google.colab.kernel.accessAllowed) {\n",
              "        return;\n",
              "      }\n",
              "      const div = document.createElement('div');\n",
              "      const label = document.createElement('label');\n",
              "      label.textContent = `Downloading \"${filename}\": `;\n",
              "      div.appendChild(label);\n",
              "      const progress = document.createElement('progress');\n",
              "      progress.max = size;\n",
              "      div.appendChild(progress);\n",
              "      document.body.appendChild(div);\n",
              "\n",
              "      const buffers = [];\n",
              "      let downloaded = 0;\n",
              "\n",
              "      const channel = await google.colab.kernel.comms.open(id);\n",
              "      // Send a message to notify the kernel that we're ready.\n",
              "      channel.send({})\n",
              "\n",
              "      for await (const message of channel.messages) {\n",
              "        // Send a message to notify the kernel that we're ready.\n",
              "        channel.send({})\n",
              "        if (message.buffers) {\n",
              "          for (const buffer of message.buffers) {\n",
              "            buffers.push(buffer);\n",
              "            downloaded += buffer.byteLength;\n",
              "            progress.value = downloaded;\n",
              "          }\n",
              "        }\n",
              "      }\n",
              "      const blob = new Blob(buffers, {type: 'application/binary'});\n",
              "      const a = document.createElement('a');\n",
              "      a.href = window.URL.createObjectURL(blob);\n",
              "      a.download = filename;\n",
              "      div.appendChild(a);\n",
              "      a.click();\n",
              "      div.remove();\n",
              "    }\n",
              "  "
            ]
          },
          "metadata": {}
        },
        {
          "output_type": "display_data",
          "data": {
            "text/plain": [
              "<IPython.core.display.Javascript object>"
            ],
            "application/javascript": [
              "download(\"download_f4c2eedd-1a46-4062-8710-b77fb5d87894\", \"coloured_video.avi\", 16070148)"
            ]
          },
          "metadata": {}
        }
      ]
    }
  ]
}